{
 "nbformat": 4,
 "nbformat_minor": 2,
 "metadata": {
  "language_info": {
   "name": "python",
   "codemirror_mode": {
    "name": "ipython",
    "version": 3
   },
   "version": "3.6.9-final"
  },
  "orig_nbformat": 2,
  "file_extension": ".py",
  "mimetype": "text/x-python",
  "name": "python",
  "npconvert_exporter": "python",
  "pygments_lexer": "ipython3",
  "version": 3,
  "kernelspec": {
   "name": "python36964bitac38e6040f824b799bacd80fd13b3e83",
   "display_name": "Python 3.6.9 64-bit"
  }
 },
 "cells": [
  {
   "cell_type": "code",
   "execution_count": 6,
   "metadata": {},
   "outputs": [],
   "source": [
    "import json\n",
    "import os\n",
    "import pandas as pd"
   ]
  },
  {
   "cell_type": "code",
   "execution_count": 7,
   "metadata": {},
   "outputs": [],
   "source": [
    "def analyse(data):\n",
    "    individu = {}\n",
    "    if data['logs'] == [] :\n",
    "        return {}\n",
    "    else :\n",
    "        user = data['logs'][0]['IDuser']\n",
    "    root =  data['quests'][0][\"dataquestionnaire\"]\n",
    "\n",
    "    individu[user] = root\n",
    "    individu[] \n",
    "\n",
    "    return individu"
   ]
  },
  {
   "cell_type": "code",
   "execution_count": 9,
   "metadata": {},
   "outputs": [
    {
     "name": "stdout",
     "output_type": "stream",
     "text": "dict_keys(['lke15', 'mgl33', 'lmi13', 'mnd28', 'cjl09', 'lwd02', 'mlr10', 'mpm50', 'mcd13', 'mcn53', 'mpv08', 'mka30', 'mme04', 'bcm03', 'bmf02', 'myg07', 'ced06', 'mds47', 'mrp34', 'lam07', 'mla26', 'mgf18', 'mea22', 'lgf18', 'lhn11', 'mdp03', 'mml45', 'lcp06', 'msc39', 'mim42', 'lbk01', 'mls35', 'mca51', 'mef06', 'cca01', 'bss05', 'mpc11', 'lrb12', 'mpm38', 'mlj09', 'ccm11', 'mfc55', 'lba11', 'cbc08', 'mmz01', 'mbe25', 'mgc21', 'mpn58', 'mcl41', 'mcn02', 'mmo32', 'msn46', 'mra19', 'mhm23', 'mmk24', 'mty60', 'mcy15', 'bda04', 'cda10', 'cll02', 'mlm43', 'ccm03', 'mmm12', 'msl49', 'mra54', 'mlv05', 'bmm01', 'mpm44', 'lpj09', 'mlr17', 'bcc08', 'mcc57', 'ldd19', 'mlf16', 'mmg52', 'crs05', 'mnr36', 'ldi16', 'mhe20', 'mwa48', 'mcf14', 'mam27', 'mmc40', 'mda28', 'lej14'])\n"
    }
   ],
   "source": [
    "files = os.listdir(\"json\")\n",
    "data_json = {}\n",
    "for file in files :\n",
    "    #print(file)\n",
    "    with open(\"json/{}\".format(file), 'r') as f:\n",
    "        datastore = json.load(f)\n",
    "        if \"quests\" in datastore :\n",
    "            if datastore[\"quests\"] != []:\n",
    "                individu = analyse(datastore)\n",
    "\n",
    "                if individu != {}:\n",
    "                    data_json.update(individu)\n",
    "            \n",
    "print(data_json.keys()) "
   ]
  },
  {
   "cell_type": "code",
   "execution_count": 12,
   "metadata": {},
   "outputs": [],
   "source": [
    "df = pd.DataFrame(dict([ (k,pd.Series(v)) for k,v in data_json.items() ]))"
   ]
  },
  {
   "cell_type": "code",
   "execution_count": 16,
   "metadata": {},
   "outputs": [
    {
     "ename": "ValueError",
     "evalue": "Expected object or value",
     "output_type": "error",
     "traceback": [
      "\u001b[0;31m---------------------------------------------------------------------------\u001b[0m",
      "\u001b[0;31mValueError\u001b[0m                                Traceback (most recent call last)",
      "\u001b[0;32m<ipython-input-16-d00bda4008ac>\u001b[0m in \u001b[0;36m<module>\u001b[0;34m\u001b[0m\n\u001b[1;32m      1\u001b[0m \u001b[0;32mimport\u001b[0m \u001b[0mpandas\u001b[0m\u001b[0;34m.\u001b[0m\u001b[0mio\u001b[0m\u001b[0;34m.\u001b[0m\u001b[0mjson\u001b[0m \u001b[0;32mas\u001b[0m \u001b[0mpd_json\u001b[0m\u001b[0;34m\u001b[0m\u001b[0;34m\u001b[0m\u001b[0m\n\u001b[1;32m      2\u001b[0m \u001b[0;34m\u001b[0m\u001b[0m\n\u001b[0;32m----> 3\u001b[0;31m \u001b[0mdata\u001b[0m \u001b[0;34m=\u001b[0m \u001b[0mpd_json\u001b[0m\u001b[0;34m.\u001b[0m\u001b[0mloads\u001b[0m\u001b[0;34m(\u001b[0m\u001b[0mstr\u001b[0m\u001b[0;34m(\u001b[0m\u001b[0mdata_json\u001b[0m\u001b[0;34m)\u001b[0m\u001b[0;34m)\u001b[0m\u001b[0;34m\u001b[0m\u001b[0;34m\u001b[0m\u001b[0m\n\u001b[0m\u001b[1;32m      4\u001b[0m \u001b[0mpd_json\u001b[0m\u001b[0;34m.\u001b[0m\u001b[0mjson_normalize\u001b[0m\u001b[0;34m(\u001b[0m\u001b[0mdata\u001b[0m\u001b[0;34m,\u001b[0m \u001b[0mrecord_path\u001b[0m\u001b[0;34m=\u001b[0m\u001b[0;34m'data'\u001b[0m\u001b[0;34m)\u001b[0m\u001b[0;34m\u001b[0m\u001b[0;34m\u001b[0m\u001b[0m\n",
      "\u001b[0;31mValueError\u001b[0m: Expected object or value"
     ]
    }
   ],
   "source": [
    "\n"
   ]
  },
  {
   "cell_type": "code",
   "execution_count": null,
   "metadata": {},
   "outputs": [],
   "source": []
  }
 ]
}